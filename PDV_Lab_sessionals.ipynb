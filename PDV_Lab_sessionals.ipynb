{
  "nbformat": 4,
  "nbformat_minor": 0,
  "metadata": {
    "colab": {
      "name": "PDV Lab sessionals",
      "provenance": [],
      "toc_visible": true
    },
    "kernelspec": {
      "name": "python3",
      "display_name": "Python 3"
    },
    "widgets": {
      "application/vnd.jupyter.widget-state+json": {
        "ba5c7e33160744878e9dde2db64d9d1a": {
          "model_module": "@jupyter-widgets/controls",
          "model_name": "HBoxModel",
          "state": {
            "_view_name": "HBoxView",
            "_dom_classes": [],
            "_model_name": "HBoxModel",
            "_view_module": "@jupyter-widgets/controls",
            "_model_module_version": "1.5.0",
            "_view_count": null,
            "_view_module_version": "1.5.0",
            "box_style": "",
            "layout": "IPY_MODEL_dc59963507984be49a8f8f0fc2cd83fa",
            "_model_module": "@jupyter-widgets/controls",
            "children": [
              "IPY_MODEL_529976ffee4146bdbd10a576005f9425",
              "IPY_MODEL_b7e0a83beda042f19b2a83122a84d82e",
              "IPY_MODEL_355eb1dc5ff64d84bc6da3a58afbdf45"
            ]
          }
        },
        "dc59963507984be49a8f8f0fc2cd83fa": {
          "model_module": "@jupyter-widgets/base",
          "model_name": "LayoutModel",
          "state": {
            "_view_name": "LayoutView",
            "grid_template_rows": null,
            "right": null,
            "justify_content": null,
            "_view_module": "@jupyter-widgets/base",
            "overflow": null,
            "_model_module_version": "1.2.0",
            "_view_count": null,
            "flex_flow": "row wrap",
            "width": "100%",
            "min_width": null,
            "border": null,
            "align_items": null,
            "bottom": null,
            "_model_module": "@jupyter-widgets/base",
            "top": null,
            "grid_column": null,
            "overflow_y": null,
            "overflow_x": null,
            "grid_auto_flow": null,
            "grid_area": null,
            "grid_template_columns": null,
            "flex": null,
            "_model_name": "LayoutModel",
            "justify_items": null,
            "grid_row": null,
            "max_height": null,
            "align_content": null,
            "visibility": null,
            "align_self": null,
            "height": null,
            "min_height": null,
            "padding": null,
            "grid_auto_rows": null,
            "grid_gap": null,
            "max_width": null,
            "order": null,
            "_view_module_version": "1.2.0",
            "grid_template_areas": null,
            "object_position": null,
            "object_fit": null,
            "grid_auto_columns": null,
            "margin": null,
            "display": "inline-flex",
            "left": null
          }
        },
        "529976ffee4146bdbd10a576005f9425": {
          "model_module": "@jupyter-widgets/controls",
          "model_name": "HTMLModel",
          "state": {
            "_view_name": "HTMLView",
            "style": "IPY_MODEL_04a6a7a2cd724dcd803b40e1935ee3b9",
            "_dom_classes": [],
            "description": "",
            "_model_name": "HTMLModel",
            "placeholder": "​",
            "_view_module": "@jupyter-widgets/controls",
            "_model_module_version": "1.5.0",
            "value": "Done! Use &#x27;show&#x27; commands to display/save.   ",
            "_view_count": null,
            "_view_module_version": "1.5.0",
            "description_tooltip": null,
            "_model_module": "@jupyter-widgets/controls",
            "layout": "IPY_MODEL_205fc28724d04337a42e458716adbde6"
          }
        },
        "b7e0a83beda042f19b2a83122a84d82e": {
          "model_module": "@jupyter-widgets/controls",
          "model_name": "FloatProgressModel",
          "state": {
            "_view_name": "ProgressView",
            "style": "IPY_MODEL_7e08b40151d8424bb084ecead15b6fc7",
            "_dom_classes": [],
            "description": "",
            "_model_name": "FloatProgressModel",
            "bar_style": "success",
            "max": 1,
            "_view_module": "@jupyter-widgets/controls",
            "_model_module_version": "1.5.0",
            "value": 1,
            "_view_count": null,
            "_view_module_version": "1.5.0",
            "orientation": "horizontal",
            "min": 0,
            "description_tooltip": null,
            "_model_module": "@jupyter-widgets/controls",
            "layout": "IPY_MODEL_90f4107902f54531acb8117a54c6a0af"
          }
        },
        "355eb1dc5ff64d84bc6da3a58afbdf45": {
          "model_module": "@jupyter-widgets/controls",
          "model_name": "HTMLModel",
          "state": {
            "_view_name": "HTMLView",
            "style": "IPY_MODEL_4b09c24194ee44259f9a01190b6fb09e",
            "_dom_classes": [],
            "description": "",
            "_model_name": "HTMLModel",
            "placeholder": "​",
            "_view_module": "@jupyter-widgets/controls",
            "_model_module_version": "1.5.0",
            "value": " [100%]   00:00 -&gt; (00:00 left)",
            "_view_count": null,
            "_view_module_version": "1.5.0",
            "description_tooltip": null,
            "_model_module": "@jupyter-widgets/controls",
            "layout": "IPY_MODEL_cc7afe460be2410c957e7b0b3cccb528"
          }
        },
        "04a6a7a2cd724dcd803b40e1935ee3b9": {
          "model_module": "@jupyter-widgets/controls",
          "model_name": "DescriptionStyleModel",
          "state": {
            "_view_name": "StyleView",
            "_model_name": "DescriptionStyleModel",
            "description_width": "",
            "_view_module": "@jupyter-widgets/base",
            "_model_module_version": "1.5.0",
            "_view_count": null,
            "_view_module_version": "1.2.0",
            "_model_module": "@jupyter-widgets/controls"
          }
        },
        "205fc28724d04337a42e458716adbde6": {
          "model_module": "@jupyter-widgets/base",
          "model_name": "LayoutModel",
          "state": {
            "_view_name": "LayoutView",
            "grid_template_rows": null,
            "right": null,
            "justify_content": null,
            "_view_module": "@jupyter-widgets/base",
            "overflow": null,
            "_model_module_version": "1.2.0",
            "_view_count": null,
            "flex_flow": null,
            "width": null,
            "min_width": null,
            "border": null,
            "align_items": null,
            "bottom": null,
            "_model_module": "@jupyter-widgets/base",
            "top": null,
            "grid_column": null,
            "overflow_y": null,
            "overflow_x": null,
            "grid_auto_flow": null,
            "grid_area": null,
            "grid_template_columns": null,
            "flex": null,
            "_model_name": "LayoutModel",
            "justify_items": null,
            "grid_row": null,
            "max_height": null,
            "align_content": null,
            "visibility": null,
            "align_self": null,
            "height": null,
            "min_height": null,
            "padding": null,
            "grid_auto_rows": null,
            "grid_gap": null,
            "max_width": null,
            "order": null,
            "_view_module_version": "1.2.0",
            "grid_template_areas": null,
            "object_position": null,
            "object_fit": null,
            "grid_auto_columns": null,
            "margin": null,
            "display": null,
            "left": null
          }
        },
        "7e08b40151d8424bb084ecead15b6fc7": {
          "model_module": "@jupyter-widgets/controls",
          "model_name": "ProgressStyleModel",
          "state": {
            "_view_name": "StyleView",
            "_model_name": "ProgressStyleModel",
            "description_width": "",
            "_view_module": "@jupyter-widgets/base",
            "_model_module_version": "1.5.0",
            "_view_count": null,
            "_view_module_version": "1.2.0",
            "bar_color": null,
            "_model_module": "@jupyter-widgets/controls"
          }
        },
        "90f4107902f54531acb8117a54c6a0af": {
          "model_module": "@jupyter-widgets/base",
          "model_name": "LayoutModel",
          "state": {
            "_view_name": "LayoutView",
            "grid_template_rows": null,
            "right": null,
            "justify_content": null,
            "_view_module": "@jupyter-widgets/base",
            "overflow": null,
            "_model_module_version": "1.2.0",
            "_view_count": null,
            "flex_flow": null,
            "width": null,
            "min_width": null,
            "border": null,
            "align_items": null,
            "bottom": null,
            "_model_module": "@jupyter-widgets/base",
            "top": null,
            "grid_column": null,
            "overflow_y": null,
            "overflow_x": null,
            "grid_auto_flow": null,
            "grid_area": null,
            "grid_template_columns": null,
            "flex": "2",
            "_model_name": "LayoutModel",
            "justify_items": null,
            "grid_row": null,
            "max_height": null,
            "align_content": null,
            "visibility": null,
            "align_self": null,
            "height": null,
            "min_height": null,
            "padding": null,
            "grid_auto_rows": null,
            "grid_gap": null,
            "max_width": null,
            "order": null,
            "_view_module_version": "1.2.0",
            "grid_template_areas": null,
            "object_position": null,
            "object_fit": null,
            "grid_auto_columns": null,
            "margin": null,
            "display": null,
            "left": null
          }
        },
        "4b09c24194ee44259f9a01190b6fb09e": {
          "model_module": "@jupyter-widgets/controls",
          "model_name": "DescriptionStyleModel",
          "state": {
            "_view_name": "StyleView",
            "_model_name": "DescriptionStyleModel",
            "description_width": "",
            "_view_module": "@jupyter-widgets/base",
            "_model_module_version": "1.5.0",
            "_view_count": null,
            "_view_module_version": "1.2.0",
            "_model_module": "@jupyter-widgets/controls"
          }
        },
        "cc7afe460be2410c957e7b0b3cccb528": {
          "model_module": "@jupyter-widgets/base",
          "model_name": "LayoutModel",
          "state": {
            "_view_name": "LayoutView",
            "grid_template_rows": null,
            "right": null,
            "justify_content": null,
            "_view_module": "@jupyter-widgets/base",
            "overflow": null,
            "_model_module_version": "1.2.0",
            "_view_count": null,
            "flex_flow": null,
            "width": null,
            "min_width": null,
            "border": null,
            "align_items": null,
            "bottom": null,
            "_model_module": "@jupyter-widgets/base",
            "top": null,
            "grid_column": null,
            "overflow_y": null,
            "overflow_x": null,
            "grid_auto_flow": null,
            "grid_area": null,
            "grid_template_columns": null,
            "flex": null,
            "_model_name": "LayoutModel",
            "justify_items": null,
            "grid_row": null,
            "max_height": null,
            "align_content": null,
            "visibility": null,
            "align_self": null,
            "height": null,
            "min_height": null,
            "padding": null,
            "grid_auto_rows": null,
            "grid_gap": null,
            "max_width": null,
            "order": null,
            "_view_module_version": "1.2.0",
            "grid_template_areas": null,
            "object_position": null,
            "object_fit": null,
            "grid_auto_columns": null,
            "margin": null,
            "display": null,
            "left": null
          }
        }
      }
    }
  },
  "cells": [
    {
      "cell_type": "markdown",
      "metadata": {
        "id": "JiICInL5r_PT"
      },
      "source": [
        "Install required packages"
      ]
    },
    {
      "cell_type": "code",
      "metadata": {
        "id": "42lrJuR_r3iF",
        "colab": {
          "base_uri": "https://localhost:8080/"
        },
        "outputId": "a8349e80-ce3d-4ec9-fbbb-ab1e1e1a8245"
      },
      "source": [
        "pip install bs4 && pip install requests && pip install texttable"
      ],
      "execution_count": null,
      "outputs": [
        {
          "output_type": "stream",
          "text": [
            "Requirement already satisfied: bs4 in /usr/local/lib/python3.6/dist-packages (0.0.1)\n",
            "Requirement already satisfied: beautifulsoup4 in /usr/local/lib/python3.6/dist-packages (from bs4) (4.6.3)\n",
            "Requirement already satisfied: requests in /usr/local/lib/python3.6/dist-packages (2.23.0)\n",
            "Requirement already satisfied: idna<3,>=2.5 in /usr/local/lib/python3.6/dist-packages (from requests) (2.10)\n",
            "Requirement already satisfied: urllib3!=1.25.0,!=1.25.1,<1.26,>=1.21.1 in /usr/local/lib/python3.6/dist-packages (from requests) (1.24.3)\n",
            "Requirement already satisfied: certifi>=2017.4.17 in /usr/local/lib/python3.6/dist-packages (from requests) (2020.12.5)\n",
            "Requirement already satisfied: chardet<4,>=3.0.2 in /usr/local/lib/python3.6/dist-packages (from requests) (3.0.4)\n",
            "Collecting texttable\n",
            "  Downloading https://files.pythonhosted.org/packages/06/f5/46201c428aebe0eecfa83df66bf3e6caa29659dbac5a56ddfd83cae0d4a4/texttable-1.6.3-py2.py3-none-any.whl\n",
            "Installing collected packages: texttable\n",
            "Successfully installed texttable-1.6.3\n"
          ],
          "name": "stdout"
        }
      ]
    },
    {
      "cell_type": "markdown",
      "metadata": {
        "id": "vbePGsXYMCWO"
      },
      "source": [
        "Import required packages"
      ]
    },
    {
      "cell_type": "code",
      "metadata": {
        "id": "Hw0X92TdLXHM"
      },
      "source": [
        "import requests\n",
        "from bs4 import BeautifulSoup as BS\n",
        "import csv"
      ],
      "execution_count": null,
      "outputs": []
    },
    {
      "cell_type": "markdown",
      "metadata": {
        "id": "MV99vHViMJc7"
      },
      "source": [
        "Define some functions"
      ]
    },
    {
      "cell_type": "code",
      "metadata": {
        "id": "tQpdbVU7LxOJ"
      },
      "source": [
        "def get_content(url):\n",
        "  return requests.get(url).content\n",
        "\n",
        "def create_bs(url):\n",
        "  return BS(get_content(url), 'html5lib')"
      ],
      "execution_count": null,
      "outputs": []
    },
    {
      "cell_type": "markdown",
      "metadata": {
        "id": "pxVwKvMceE6I"
      },
      "source": [
        "Scrape Amazon India website to extract information about various models of mobile phone manufactured by Redmi and samsung. (Model Name, price, ratings). Save it in a CSV file."
      ]
    },
    {
      "cell_type": "code",
      "metadata": {
        "id": "Ih8uTak2eQah"
      },
      "source": [
        "def extract_rating(rating):\n",
        "  if 'Stars & Up' in rating or 'Star & Up' in rating:\n",
        "    rating = float(rating[0])\n",
        "  else:\n",
        "    rating = float(rating[:3])\n",
        "  return rating"
      ],
      "execution_count": null,
      "outputs": []
    },
    {
      "cell_type": "code",
      "metadata": {
        "id": "Gy0AMKcBsk8t"
      },
      "source": [
        "bs = create_bs('https://www.amazon.in/s?i=electronics&bbn=1389401031&rh=n%3A1389401031%2Cp_89%3ARedmi%7CSamsung&dc&qid=1611369268&rnid=3837712031&ref=sr_nr_p_89_3')\n",
        "prices = bs.findAll('span', {'class': 'a-price-whole'})\n",
        "names = bs.findAll('span', {'class': 'a-text-normal'})\n",
        "ratings = bs.findAll('span', {'class': 'a-icon-alt'})\n",
        "\n",
        "file_name = 'phones.csv'\n",
        "with open(file_name, 'w') as file:\n",
        "  writer = csv.DictWriter(file, ['Name', 'Price', 'Rating'])\n",
        "  writer.writeheader()\n",
        "  for idx, price in enumerate(prices):\n",
        "    price = float(price.text.replace(',',''))\n",
        "    name = names[idx].text\n",
        "    rating = extract_rating(ratings[idx].text)\n",
        "    writer.writerow({'Name': name,\n",
        "                     'Price': price,\n",
        "                     'Rating': rating})"
      ],
      "execution_count": null,
      "outputs": []
    },
    {
      "cell_type": "markdown",
      "metadata": {
        "id": "MUOr4xt2RFAS"
      },
      "source": [
        "# EDA"
      ]
    },
    {
      "cell_type": "code",
      "metadata": {
        "id": "AFDnNOPlRGgJ",
        "colab": {
          "base_uri": "https://localhost:8080/",
          "height": 785
        },
        "outputId": "43474840-5ae1-464c-908f-27ef86f3a399"
      },
      "source": [
        "import pandas as pd\n",
        "import numpy as np\n",
        "\n",
        "df = pd.read_csv('phones.csv')\n",
        "df"
      ],
      "execution_count": null,
      "outputs": [
        {
          "output_type": "execute_result",
          "data": {
            "text/html": [
              "<div>\n",
              "<style scoped>\n",
              "    .dataframe tbody tr th:only-of-type {\n",
              "        vertical-align: middle;\n",
              "    }\n",
              "\n",
              "    .dataframe tbody tr th {\n",
              "        vertical-align: top;\n",
              "    }\n",
              "\n",
              "    .dataframe thead th {\n",
              "        text-align: right;\n",
              "    }\n",
              "</style>\n",
              "<table border=\"1\" class=\"dataframe\">\n",
              "  <thead>\n",
              "    <tr style=\"text-align: right;\">\n",
              "      <th></th>\n",
              "      <th>Name</th>\n",
              "      <th>Price</th>\n",
              "      <th>Rating</th>\n",
              "    </tr>\n",
              "  </thead>\n",
              "  <tbody>\n",
              "    <tr>\n",
              "      <th>0</th>\n",
              "      <td>Redmi 9 Power (Blazing Blue, 4GB RAM, 64GB Sto...</td>\n",
              "      <td>10999.0</td>\n",
              "      <td>4.0</td>\n",
              "    </tr>\n",
              "    <tr>\n",
              "      <th>1</th>\n",
              "      <td>Samsung Galaxy M31 Prime Edition (Space Black,...</td>\n",
              "      <td>15999.0</td>\n",
              "      <td>3.0</td>\n",
              "    </tr>\n",
              "    <tr>\n",
              "      <th>2</th>\n",
              "      <td>Redmi 9 Power (Mighty Black 4GB RAM 64GB Stora...</td>\n",
              "      <td>10999.0</td>\n",
              "      <td>2.0</td>\n",
              "    </tr>\n",
              "    <tr>\n",
              "      <th>3</th>\n",
              "      <td>Redmi 9 Power (Electric Green, 4GB RAM, 64GB S...</td>\n",
              "      <td>10999.0</td>\n",
              "      <td>1.0</td>\n",
              "    </tr>\n",
              "    <tr>\n",
              "      <th>4</th>\n",
              "      <td>Redmi 9A (Sea Blue, 2GB Ram, 32GB Storage)</td>\n",
              "      <td>6999.0</td>\n",
              "      <td>3.7</td>\n",
              "    </tr>\n",
              "    <tr>\n",
              "      <th>5</th>\n",
              "      <td>Redmi Note 9 Pro (Aurora Blue, 4GB RAM, 64GB S...</td>\n",
              "      <td>12999.0</td>\n",
              "      <td>4.2</td>\n",
              "    </tr>\n",
              "    <tr>\n",
              "      <th>6</th>\n",
              "      <td>Samsung Galaxy M31 (Ocean Blue, 6GB RAM, 128GB...</td>\n",
              "      <td>15999.0</td>\n",
              "      <td>3.7</td>\n",
              "    </tr>\n",
              "    <tr>\n",
              "      <th>7</th>\n",
              "      <td>Samsung Galaxy M21 (Midnight Blue, 4GB RAM, 64...</td>\n",
              "      <td>12499.0</td>\n",
              "      <td>3.7</td>\n",
              "    </tr>\n",
              "    <tr>\n",
              "      <th>8</th>\n",
              "      <td>Redmi 9 Power (Fiery Red, 4GB RAM, 64GB Storag...</td>\n",
              "      <td>10999.0</td>\n",
              "      <td>4.1</td>\n",
              "    </tr>\n",
              "    <tr>\n",
              "      <th>9</th>\n",
              "      <td>Redmi Note 9 Pro Max (Aurora Blue, 6GB RAM, 64...</td>\n",
              "      <td>14999.0</td>\n",
              "      <td>4.2</td>\n",
              "    </tr>\n",
              "    <tr>\n",
              "      <th>10</th>\n",
              "      <td>Redmi 9A (Nature Green, 2GB Ram, 32GB Storage)</td>\n",
              "      <td>6999.0</td>\n",
              "      <td>4.2</td>\n",
              "    </tr>\n",
              "    <tr>\n",
              "      <th>11</th>\n",
              "      <td>Redmi Note 9 Pro (Interstellar Black, 4GB RAM,...</td>\n",
              "      <td>12999.0</td>\n",
              "      <td>4.2</td>\n",
              "    </tr>\n",
              "    <tr>\n",
              "      <th>12</th>\n",
              "      <td>Redmi 9A (Midnight Black, 2GB RAM, 32GB Storage)</td>\n",
              "      <td>6999.0</td>\n",
              "      <td>3.7</td>\n",
              "    </tr>\n",
              "    <tr>\n",
              "      <th>13</th>\n",
              "      <td>Samsung Galaxy M31s (Mirage Blue, 6GB RAM, 128...</td>\n",
              "      <td>17999.0</td>\n",
              "      <td>4.1</td>\n",
              "    </tr>\n",
              "    <tr>\n",
              "      <th>14</th>\n",
              "      <td>Redmi 9 (Sky Blue, 4GB RAM, 64GB Storage)</td>\n",
              "      <td>8999.0</td>\n",
              "      <td>4.1</td>\n",
              "    </tr>\n",
              "    <tr>\n",
              "      <th>15</th>\n",
              "      <td>Samsung Galaxy M21 (Raven Black, 4GB RAM, 64GB...</td>\n",
              "      <td>12499.0</td>\n",
              "      <td>4.2</td>\n",
              "    </tr>\n",
              "    <tr>\n",
              "      <th>16</th>\n",
              "      <td>Redmi Note 9 Pro Max (Interstellar Black, 6GB ...</td>\n",
              "      <td>14999.0</td>\n",
              "      <td>4.1</td>\n",
              "    </tr>\n",
              "    <tr>\n",
              "      <th>17</th>\n",
              "      <td>Samsung Galaxy M02s (Blue,4GB RAM, 64GB Storage)</td>\n",
              "      <td>9999.0</td>\n",
              "      <td>4.3</td>\n",
              "    </tr>\n",
              "    <tr>\n",
              "      <th>18</th>\n",
              "      <td>Samsung Galaxy M51 (Electric Blue, 6GB RAM, 12...</td>\n",
              "      <td>22999.0</td>\n",
              "      <td>4.0</td>\n",
              "    </tr>\n",
              "    <tr>\n",
              "      <th>19</th>\n",
              "      <td>Redmi 9 Prime (Mint Green, 4GB RAM, 64GB Stora...</td>\n",
              "      <td>9499.0</td>\n",
              "      <td>4.2</td>\n",
              "    </tr>\n",
              "    <tr>\n",
              "      <th>20</th>\n",
              "      <td>Samsung Galaxy M31s (Mirage Black, 6GB RAM, 12...</td>\n",
              "      <td>17999.0</td>\n",
              "      <td>4.1</td>\n",
              "    </tr>\n",
              "    <tr>\n",
              "      <th>21</th>\n",
              "      <td>Redmi Note 9 Pro Max (Aurora Blue, 6GB RAM, 12...</td>\n",
              "      <td>17499.0</td>\n",
              "      <td>4.4</td>\n",
              "    </tr>\n",
              "    <tr>\n",
              "      <th>22</th>\n",
              "      <td>Redmi Note 9 Pro (Aurora Blue, 4GB RAM, 128GB ...</td>\n",
              "      <td>13999.0</td>\n",
              "      <td>4.2</td>\n",
              "    </tr>\n",
              "    <tr>\n",
              "      <th>23</th>\n",
              "      <td>Samsung Galaxy M51 (Celestial Black, 6GB RAM, ...</td>\n",
              "      <td>22999.0</td>\n",
              "      <td>4.3</td>\n",
              "    </tr>\n",
              "  </tbody>\n",
              "</table>\n",
              "</div>"
            ],
            "text/plain": [
              "                                                 Name    Price  Rating\n",
              "0   Redmi 9 Power (Blazing Blue, 4GB RAM, 64GB Sto...  10999.0     4.0\n",
              "1   Samsung Galaxy M31 Prime Edition (Space Black,...  15999.0     3.0\n",
              "2   Redmi 9 Power (Mighty Black 4GB RAM 64GB Stora...  10999.0     2.0\n",
              "3   Redmi 9 Power (Electric Green, 4GB RAM, 64GB S...  10999.0     1.0\n",
              "4          Redmi 9A (Sea Blue, 2GB Ram, 32GB Storage)   6999.0     3.7\n",
              "5   Redmi Note 9 Pro (Aurora Blue, 4GB RAM, 64GB S...  12999.0     4.2\n",
              "6   Samsung Galaxy M31 (Ocean Blue, 6GB RAM, 128GB...  15999.0     3.7\n",
              "7   Samsung Galaxy M21 (Midnight Blue, 4GB RAM, 64...  12499.0     3.7\n",
              "8   Redmi 9 Power (Fiery Red, 4GB RAM, 64GB Storag...  10999.0     4.1\n",
              "9   Redmi Note 9 Pro Max (Aurora Blue, 6GB RAM, 64...  14999.0     4.2\n",
              "10     Redmi 9A (Nature Green, 2GB Ram, 32GB Storage)   6999.0     4.2\n",
              "11  Redmi Note 9 Pro (Interstellar Black, 4GB RAM,...  12999.0     4.2\n",
              "12   Redmi 9A (Midnight Black, 2GB RAM, 32GB Storage)   6999.0     3.7\n",
              "13  Samsung Galaxy M31s (Mirage Blue, 6GB RAM, 128...  17999.0     4.1\n",
              "14          Redmi 9 (Sky Blue, 4GB RAM, 64GB Storage)   8999.0     4.1\n",
              "15  Samsung Galaxy M21 (Raven Black, 4GB RAM, 64GB...  12499.0     4.2\n",
              "16  Redmi Note 9 Pro Max (Interstellar Black, 6GB ...  14999.0     4.1\n",
              "17   Samsung Galaxy M02s (Blue,4GB RAM, 64GB Storage)   9999.0     4.3\n",
              "18  Samsung Galaxy M51 (Electric Blue, 6GB RAM, 12...  22999.0     4.0\n",
              "19  Redmi 9 Prime (Mint Green, 4GB RAM, 64GB Stora...   9499.0     4.2\n",
              "20  Samsung Galaxy M31s (Mirage Black, 6GB RAM, 12...  17999.0     4.1\n",
              "21  Redmi Note 9 Pro Max (Aurora Blue, 6GB RAM, 12...  17499.0     4.4\n",
              "22  Redmi Note 9 Pro (Aurora Blue, 4GB RAM, 128GB ...  13999.0     4.2\n",
              "23  Samsung Galaxy M51 (Celestial Black, 6GB RAM, ...  22999.0     4.3"
            ]
          },
          "metadata": {
            "tags": []
          },
          "execution_count": 10
        }
      ]
    },
    {
      "cell_type": "markdown",
      "metadata": {
        "id": "2sqRfUzYRaY0"
      },
      "source": [
        "1. Number of mobileset in different price band - (1 - 5K, 5K - 10k, 10K and above) "
      ]
    },
    {
      "cell_type": "code",
      "metadata": {
        "id": "9sK8CnxJRjX8"
      },
      "source": [
        "def name_contains(df, token):\n",
        "  return df[df['Name'].str.contains(token)]\n",
        "\n",
        "brands = ['Samsung', 'Redmi']\n",
        "brand_phones = [name_contains(df, brand) for brand in brands]"
      ],
      "execution_count": null,
      "outputs": []
    },
    {
      "cell_type": "code",
      "metadata": {
        "id": "Pdkta3aNXMA8"
      },
      "source": [
        "price_bands = ['Price >= 1000 & Price < 5000',\n",
        "               'Price >= 5000 & Price < 10000',\n",
        "               'Price > 10000']"
      ],
      "execution_count": null,
      "outputs": []
    },
    {
      "cell_type": "code",
      "metadata": {
        "id": "6sK5absbimjf"
      },
      "source": [
        "def draw_table(data, header):\n",
        "  tbl = tt.Texttable()\n",
        "  tbl.add_rows([header] + data);\n",
        "  print(tbl.draw())"
      ],
      "execution_count": null,
      "outputs": []
    },
    {
      "cell_type": "markdown",
      "metadata": {
        "id": "SVLhzrI2RfB8"
      },
      "source": [
        "within manufacturer"
      ]
    },
    {
      "cell_type": "code",
      "metadata": {
        "colab": {
          "base_uri": "https://localhost:8080/"
        },
        "id": "PUxcDHFGhPHd",
        "outputId": "c5f92baa-3189-4929-8695-e7937f2f05f6"
      },
      "source": [
        "import texttable as tt\n",
        "data = []\n",
        "for brand, bdf in zip(brands, brand_phones):\n",
        "  for band in price_bands:\n",
        "    data.append((brand, band, bdf.query(band).shape[0]))\n",
        "\n",
        "draw_table(data, ('Brand', 'Price Band', '# of Sets'))"
      ],
      "execution_count": null,
      "outputs": [
        {
          "output_type": "stream",
          "text": [
            "+---------+-------------------------------+-----------+\n",
            "|  Brand  |          Price Band           | # of Sets |\n",
            "+=========+===============================+===========+\n",
            "| Samsung | Price >= 1000 & Price < 5000  | 0         |\n",
            "+---------+-------------------------------+-----------+\n",
            "| Samsung | Price >= 5000 & Price < 10000 | 1         |\n",
            "+---------+-------------------------------+-----------+\n",
            "| Samsung | Price > 10000                 | 8         |\n",
            "+---------+-------------------------------+-----------+\n",
            "| Redmi   | Price >= 1000 & Price < 5000  | 0         |\n",
            "+---------+-------------------------------+-----------+\n",
            "| Redmi   | Price >= 5000 & Price < 10000 | 5         |\n",
            "+---------+-------------------------------+-----------+\n",
            "| Redmi   | Price > 10000                 | 10        |\n",
            "+---------+-------------------------------+-----------+\n"
          ],
          "name": "stdout"
        }
      ]
    },
    {
      "cell_type": "markdown",
      "metadata": {
        "id": "dmiTR4aXRiZ8"
      },
      "source": [
        "between manufacturer."
      ]
    },
    {
      "cell_type": "code",
      "metadata": {
        "colab": {
          "base_uri": "https://localhost:8080/"
        },
        "id": "UaoQ66q-RYD9",
        "outputId": "97fac2b2-8f02-4efa-c7fd-5ce92e4c5c1c"
      },
      "source": [
        "data = []\n",
        "for band in price_bands:\n",
        "  data.append((band, df.query(band).shape[0]))\n",
        "\n",
        "draw_table(data, ('Price Band', '# of Sets'))"
      ],
      "execution_count": null,
      "outputs": [
        {
          "output_type": "stream",
          "text": [
            "+-------------------------------+-----------+\n",
            "|          Price Band           | # of Sets |\n",
            "+===============================+===========+\n",
            "| Price >= 1000 & Price < 5000  | 0         |\n",
            "+-------------------------------+-----------+\n",
            "| Price >= 5000 & Price < 10000 | 6         |\n",
            "+-------------------------------+-----------+\n",
            "| Price > 10000                 | 18        |\n",
            "+-------------------------------+-----------+\n"
          ],
          "name": "stdout"
        }
      ]
    },
    {
      "cell_type": "markdown",
      "metadata": {
        "id": "opFQ6dltXoHK"
      },
      "source": [
        "2. Highest rated Mobile set in each manufacturer."
      ]
    },
    {
      "cell_type": "code",
      "metadata": {
        "colab": {
          "base_uri": "https://localhost:8080/"
        },
        "id": "OKcNoWalXoer",
        "outputId": "bb4b4baa-e4c5-4255-dc91-a02a818529d3"
      },
      "source": [
        "for brand, bdf in zip(brands, brand_phones):               \n",
        "  print(f'\\nBrand: {brand}')\n",
        "  print(bdf[bdf['Rating'] == bdf['Rating'].max()])"
      ],
      "execution_count": null,
      "outputs": [
        {
          "output_type": "stream",
          "text": [
            "\n",
            "Brand: Samsung\n",
            "                                                 Name    Price  Rating\n",
            "17   Samsung Galaxy M02s (Blue,4GB RAM, 64GB Storage)   9999.0     4.3\n",
            "23  Samsung Galaxy M51 (Celestial Black, 6GB RAM, ...  22999.0     4.3\n",
            "\n",
            "Brand: Redmi\n",
            "                                                 Name    Price  Rating\n",
            "21  Redmi Note 9 Pro Max (Aurora Blue, 6GB RAM, 12...  17499.0     4.4\n"
          ],
          "name": "stdout"
        }
      ]
    },
    {
      "cell_type": "code",
      "metadata": {
        "colab": {
          "base_uri": "https://localhost:8080/"
        },
        "id": "CyYrp3sXBuY9",
        "outputId": "263b195a-5c07-4d55-9cba-38a8790d8737"
      },
      "source": [
        "pip install sweetviz"
      ],
      "execution_count": null,
      "outputs": [
        {
          "output_type": "stream",
          "text": [
            "Requirement already satisfied: sweetviz in /usr/local/lib/python3.6/dist-packages (2.0.4)\n",
            "Requirement already satisfied: pandas!=1.0.0,!=1.0.1,!=1.0.2,>=0.25.3 in /usr/local/lib/python3.6/dist-packages (from sweetviz) (1.1.5)\n",
            "Requirement already satisfied: numpy>=1.16.0 in /usr/local/lib/python3.6/dist-packages (from sweetviz) (1.19.5)\n",
            "Requirement already satisfied: jinja2>=2.11.1 in /usr/local/lib/python3.6/dist-packages (from sweetviz) (2.11.2)\n",
            "Requirement already satisfied: tqdm>=4.43.0 in /usr/local/lib/python3.6/dist-packages (from sweetviz) (4.56.0)\n",
            "Requirement already satisfied: importlib-resources>=1.2.0 in /usr/local/lib/python3.6/dist-packages (from sweetviz) (4.1.1)\n",
            "Requirement already satisfied: scipy>=1.3.2 in /usr/local/lib/python3.6/dist-packages (from sweetviz) (1.4.1)\n",
            "Requirement already satisfied: matplotlib>=3.1.3 in /usr/local/lib/python3.6/dist-packages (from sweetviz) (3.2.2)\n",
            "Requirement already satisfied: python-dateutil>=2.7.3 in /usr/local/lib/python3.6/dist-packages (from pandas!=1.0.0,!=1.0.1,!=1.0.2,>=0.25.3->sweetviz) (2.8.1)\n",
            "Requirement already satisfied: pytz>=2017.2 in /usr/local/lib/python3.6/dist-packages (from pandas!=1.0.0,!=1.0.1,!=1.0.2,>=0.25.3->sweetviz) (2018.9)\n",
            "Requirement already satisfied: MarkupSafe>=0.23 in /usr/local/lib/python3.6/dist-packages (from jinja2>=2.11.1->sweetviz) (1.1.1)\n",
            "Requirement already satisfied: zipp>=0.4; python_version < \"3.8\" in /usr/local/lib/python3.6/dist-packages (from importlib-resources>=1.2.0->sweetviz) (3.4.0)\n",
            "Requirement already satisfied: cycler>=0.10 in /usr/local/lib/python3.6/dist-packages (from matplotlib>=3.1.3->sweetviz) (0.10.0)\n",
            "Requirement already satisfied: kiwisolver>=1.0.1 in /usr/local/lib/python3.6/dist-packages (from matplotlib>=3.1.3->sweetviz) (1.3.1)\n",
            "Requirement already satisfied: pyparsing!=2.0.4,!=2.1.2,!=2.1.6,>=2.0.1 in /usr/local/lib/python3.6/dist-packages (from matplotlib>=3.1.3->sweetviz) (2.4.7)\n",
            "Requirement already satisfied: six>=1.5 in /usr/local/lib/python3.6/dist-packages (from python-dateutil>=2.7.3->pandas!=1.0.0,!=1.0.1,!=1.0.2,>=0.25.3->sweetviz) (1.15.0)\n"
          ],
          "name": "stdout"
        }
      ]
    },
    {
      "cell_type": "code",
      "metadata": {
        "colab": {
          "base_uri": "https://localhost:8080/",
          "height": 87,
          "referenced_widgets": [
            "ba5c7e33160744878e9dde2db64d9d1a",
            "dc59963507984be49a8f8f0fc2cd83fa",
            "529976ffee4146bdbd10a576005f9425",
            "b7e0a83beda042f19b2a83122a84d82e",
            "355eb1dc5ff64d84bc6da3a58afbdf45",
            "04a6a7a2cd724dcd803b40e1935ee3b9",
            "205fc28724d04337a42e458716adbde6",
            "7e08b40151d8424bb084ecead15b6fc7",
            "90f4107902f54531acb8117a54c6a0af",
            "4b09c24194ee44259f9a01190b6fb09e",
            "cc7afe460be2410c957e7b0b3cccb528"
          ]
        },
        "id": "DMlK9CpbBngC",
        "outputId": "3c83d004-768a-4a1e-a7a1-739821e3769f"
      },
      "source": [
        "import sweetviz as sv\n",
        "\n",
        "my_report = sv.analyze(df)\n",
        "my_report.show_html()"
      ],
      "execution_count": null,
      "outputs": [
        {
          "output_type": "display_data",
          "data": {
            "application/vnd.jupyter.widget-view+json": {
              "model_id": "ba5c7e33160744878e9dde2db64d9d1a",
              "version_minor": 0,
              "version_major": 2
            },
            "text/plain": [
              "                                             |          | [  0%]   00:00 -> (? left)"
            ]
          },
          "metadata": {
            "tags": []
          }
        },
        {
          "output_type": "stream",
          "text": [
            "Report SWEETVIZ_REPORT.html was generated! NOTEBOOK/COLAB USERS: the web browser MAY not pop up, regardless, the report IS saved in your notebook/colab files.\n"
          ],
          "name": "stdout"
        }
      ]
    }
  ]
}